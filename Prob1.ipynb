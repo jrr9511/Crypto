{
 "cells": [
  {
   "cell_type": "markdown",
   "metadata": {},
   "source": [
    "# Problem 1: Affine Cipher\n",
    "### Two different ways to calculate the coprimes and the length based on N\n",
    "In this case since N = 26"
   ]
  },
  {
   "cell_type": "code",
   "execution_count": 1,
   "metadata": {},
   "outputs": [
    {
     "name": "stdout",
     "output_type": "stream",
     "text": [
      "Coprimes of N: [1, 3, 5, 7, 9, 11, 15, 17, 19, 21, 23, 25]\n",
      "φ(N) = 12\n"
     ]
    }
   ],
   "source": [
    "N = 26\n",
    "N_FACTORS = [2, 13] # GCD\n",
    "N_COPRIMES = [n for n in range(1, N) if not any(n % f == 0 for f in N_FACTORS)]\n",
    "print('Coprimes of N:', N_COPRIMES)\n",
    "print('φ(N) =', len(N_COPRIMES))"
   ]
  },
  {
   "cell_type": "code",
   "execution_count": 2,
   "metadata": {},
   "outputs": [
    {
     "name": "stdout",
     "output_type": "stream",
     "text": [
      "Coprimes of N: [1, 3, 5, 7, 9, 11, 15, 17, 19, 21, 23, 25]\n",
      "φ(N) = 12\n"
     ]
    }
   ],
   "source": [
    "def gcd(a, b): return b if a == 0 else gcd(b % a, a) # recursive Euclidean algorithm\n",
    " \n",
    "def φ(n): return [i for i in range(1, n) if gcd(i, n) == 1] # coprimes of n, based on the class video\n",
    "\n",
    "print('Coprimes of N:', φ(N))\n",
    "print('φ(N) =', len(φ(N)))"
   ]
  },
  {
   "cell_type": "markdown",
   "metadata": {},
   "source": [
    "### Modular Multiplicative Inverse of a modulo N: a^-1\n",
    "Very interesting there is one and only one multInv, and the set is the same as 'a'."
   ]
  },
  {
   "cell_type": "code",
   "execution_count": 3,
   "metadata": {},
   "outputs": [
    {
     "name": "stdout",
     "output_type": "stream",
     "text": [
      "1 : 1,    3 : 9,    5 : 21,    7 : 15,    9 : 3,    11 : 19,    15 : 7,    17 : 23,    19 : 11,    21 : 5,    23 : 17,    25 : 25,    "
     ]
    }
   ],
   "source": [
    "def multInv(n, N): # multiplicative inverse of n mod N\n",
    "    for x in range(1, N):\n",
    "        if (n * x) % N == 1:\n",
    "            return x\n",
    "\n",
    "for n in N_COPRIMES:\n",
    "    print(n, ':', multInv(n, N), end=',    ')"
   ]
  },
  {
   "cell_type": "markdown",
   "metadata": {},
   "source": [
    "### Affine Cipher"
   ]
  },
  {
   "cell_type": "code",
   "execution_count": 4,
   "metadata": {},
   "outputs": [],
   "source": [
    "def _chr(x): return chr(x + ord('A'))\n",
    "def _ord(x): return ord(x) - ord('A')\n",
    "\n",
    "def encrypt(a, b, plain):\n",
    "    C = [(a * _ord(pt) + b) % N for pt in plain] # affine cipher\n",
    "    return ''.join([_chr(ct) for ct in C])\n",
    "\n",
    "def decrypt(a, b, cipher):\n",
    "    a_inv = multInv(a, N)\n",
    "    C = [(a_inv * (_ord(ct) - b)) % N for ct in cipher] # affine cipher\n",
    "    return ''.join([_chr(ct ) for ct in C])"
   ]
  },
  {
   "cell_type": "markdown",
   "metadata": {},
   "source": [
    "### 1b Encrypt a phrase"
   ]
  },
  {
   "cell_type": "code",
   "execution_count": 5,
   "metadata": {},
   "outputs": [
    {
     "name": "stdout",
     "output_type": "stream",
     "text": [
      "Cipher Text: TQZGABXVIFW\n",
      "Plain  Text: CRYPTOISFUN\n"
     ]
    }
   ],
   "source": [
    "CT = encrypt(5, 9, 'CRYPTOISFUN')\n",
    "PT = decrypt(5, 9, CT)\n",
    "print('Cipher Text:', CT)\n",
    "print('Plain  Text:', PT)"
   ]
  },
  {
   "cell_type": "markdown",
   "metadata": {},
   "source": [
    "### 1c Brute Force decryption"
   ]
  },
  {
   "cell_type": "code",
   "execution_count": 6,
   "metadata": {},
   "outputs": [
    {
     "name": "stdout",
     "output_type": "stream",
     "text": [
      "11 6\n",
      "IFYOUBOWATALLBOWLOW\n"
     ]
    }
   ],
   "source": [
    "for a in N_COPRIMES:\n",
    "    for b in range(0, N):\n",
    "        if (encrypt(a, b, 'T') == 'H') and (encrypt(a, b, 'O') == 'E'):\n",
    "            print(a, b)\n",
    "            print(decrypt(a, b, 'QJKESREOGHGXXREOXEO'))"
   ]
  }
 ],
 "metadata": {
  "kernelspec": {
   "display_name": "Python 3",
   "language": "python",
   "name": "python3"
  },
  "language_info": {
   "codemirror_mode": {
    "name": "ipython",
    "version": 3
   },
   "file_extension": ".py",
   "mimetype": "text/x-python",
   "name": "python",
   "nbconvert_exporter": "python",
   "pygments_lexer": "ipython3",
   "version": "3.12.2"
  }
 },
 "nbformat": 4,
 "nbformat_minor": 2
}
